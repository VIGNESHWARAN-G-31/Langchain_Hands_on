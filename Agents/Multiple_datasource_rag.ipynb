{
 "cells": [
  {
   "cell_type": "code",
   "execution_count": 1,
   "metadata": {},
   "outputs": [],
   "source": [
    "from langchain_community.tools import WikipediaQueryRun\n",
    "from langchain_community.utilities import WikipediaAPIWrapper"
   ]
  },
  {
   "cell_type": "markdown",
   "id": "5fee57f4",
   "metadata": {},
   "source": [
    "CREATING THE WIKIPEDIA TOOL TO USE THE AGENT"
   ]
  },
  {
   "cell_type": "code",
   "execution_count": 8,
   "id": "f5f06be6",
   "metadata": {},
   "outputs": [],
   "source": [
    "api_wrapper = WikipediaAPIWrapper(top_k_results=1,top_k_chars=200)\n",
    "wiki = WikipediaQueryRun(api_wrapper=api_wrapper)"
   ]
  },
  {
   "cell_type": "code",
   "execution_count": 9,
   "id": "bbce7cdc",
   "metadata": {},
   "outputs": [
    {
     "data": {
      "text/plain": [
       "'wikipedia'"
      ]
     },
     "execution_count": 9,
     "metadata": {},
     "output_type": "execute_result"
    }
   ],
   "source": [
    "wiki.name"
   ]
  },
  {
   "cell_type": "markdown",
   "id": "65d948f5",
   "metadata": {},
   "source": [
    "CREATING TOOL FOR WEBBASED SEARCH"
   ]
  },
  {
   "cell_type": "code",
   "execution_count": null,
   "id": "ce131d9d",
   "metadata": {},
   "outputs": [
    {
     "name": "stdout",
     "output_type": "stream",
     "text": [
      "✅ Docs loaded\n",
      "✅ Docs split into chunks\n"
     ]
    }
   ],
   "source": [
    "# tamilnadu_retriever.py\n",
    "import os\n",
    "os.environ[\"USER_AGENT\"] = \"MyLangChainBot/1.0 (contact@example.com)\"\n",
    "\n",
    "  \n",
    "\n",
    "# Step 1: Load webpage\n",
    "from langchain_community.document_loaders import WebBaseLoader\n",
    "loader = WebBaseLoader(\"https://en.wikipedia.org/wiki/Tamil_Nadu\")  \n",
    "print(\" Docs loaded\")\n",
    "\n",
    "# Step 2: Split into chunks\n",
    "from langchain_text_splitters import RecursiveCharacterTextSplitter\n",
    "splitter = RecursiveCharacterTextSplitter(chunk_size=500, chunk_overlap=50)\n",
    "split_docs = splitter.split_documents(docs[:1])  \n",
    "print(\" Docs split into chunks\")"
   ]
  },
  {
   "cell_type": "code",
   "execution_count": null,
   "id": "102356db",
   "metadata": {},
   "outputs": [
    {
     "name": "stdout",
     "output_type": "stream",
     "text": [
      "✅ Retriever ready\n"
     ]
    }
   ],
   "source": [
    "\n",
    "\n",
    "# Step 3: Create Gemini embeddings\n",
    "from langchain_google_genai import GoogleGenerativeAIEmbeddings\n",
    "embedding = GoogleGenerativeAIEmbeddings(\n",
    "    model=\"models/embedding-001\",     \n",
    "    task_type=\"retrieval_document\"    \n",
    ")\n",
    "\n",
    "# Step 4: Store embeddings in FAISS\n",
    "from langchain.vectorstores import FAISS\n",
    "db = FAISS.from_documents(split_docs, embedding)\n",
    "retriever = db.as_retriever()\n",
    "print(\" Retriever ready\")\n",
    "\n",
    "\n"
   ]
  },
  {
   "cell_type": "code",
   "execution_count": 28,
   "id": "ddedde14",
   "metadata": {},
   "outputs": [],
   "source": [
    "from langchain.tools.retriever import create_retriever_tool\n",
    "\n",
    "retriever_tool = create_retriever_tool(retriever,\"tamilnadusearch\",\"Search for any information about tamilnadu use this tool \")"
   ]
  },
  {
   "cell_type": "code",
   "execution_count": 29,
   "id": "5a8daed6",
   "metadata": {},
   "outputs": [
    {
     "data": {
      "text/plain": [
       "'tamilnadusearch'"
      ]
     },
     "execution_count": 29,
     "metadata": {},
     "output_type": "execute_result"
    }
   ],
   "source": [
    "retriever_tool.name"
   ]
  },
  {
   "cell_type": "markdown",
   "id": "18d3b2d7",
   "metadata": {},
   "source": [
    "CREATING  TOOL FOR RESEARCH PAPERS "
   ]
  },
  {
   "cell_type": "code",
   "execution_count": 30,
   "id": "1ef0c6b5",
   "metadata": {},
   "outputs": [],
   "source": [
    "#3. Research Paper\n",
    "from langchain_community.utilities import ArxivAPIWrapper\n",
    "from langchain_community.tools import ArxivQueryRun\n",
    "\n",
    "arxiv_wrapper = ArxivAPIWrapper(top_k_results=1,doc_content_chars_max=10)\n",
    "arxiv = ArxivQueryRun(api_wrapper=arxiv_wrapper)"
   ]
  },
  {
   "cell_type": "code",
   "execution_count": 31,
   "id": "da17286e",
   "metadata": {},
   "outputs": [
    {
     "data": {
      "text/plain": [
       "'arxiv'"
      ]
     },
     "execution_count": 31,
     "metadata": {},
     "output_type": "execute_result"
    }
   ],
   "source": [
    "arxiv.name"
   ]
  },
  {
   "cell_type": "code",
   "execution_count": 32,
   "id": "4e49c561",
   "metadata": {},
   "outputs": [],
   "source": [
    "tools = [wiki,retriever_tool,arxiv]"
   ]
  },
  {
   "cell_type": "code",
   "execution_count": 33,
   "id": "a3bc11a7",
   "metadata": {},
   "outputs": [
    {
     "data": {
      "text/plain": [
       "[WikipediaQueryRun(api_wrapper=WikipediaAPIWrapper(wiki_client=<module 'wikipedia' from 'c:\\\\Users\\\\Vigneshwaran G\\\\AppData\\\\Local\\\\Programs\\\\Python\\\\Python312\\\\Lib\\\\site-packages\\\\wikipedia\\\\__init__.py'>, top_k_results=1, lang='en', load_all_available_meta=False, doc_content_chars_max=4000)),\n",
       " Tool(name='tamilnadusearch', description='Search for any information about tamilnadu use this tool ', args_schema=<class 'langchain_core.tools.retriever.RetrieverInput'>, func=functools.partial(<function _get_relevant_documents at 0x0000020FFF98F4C0>, retriever=VectorStoreRetriever(tags=['FAISS', 'GoogleGenerativeAIEmbeddings'], vectorstore=<langchain_community.vectorstores.faiss.FAISS object at 0x0000020FFFF679B0>, search_kwargs={}), document_prompt=PromptTemplate(input_variables=['page_content'], input_types={}, partial_variables={}, template='{page_content}'), document_separator='\\n\\n', response_format='content'), coroutine=functools.partial(<function _aget_relevant_documents at 0x0000020FFF98F7E0>, retriever=VectorStoreRetriever(tags=['FAISS', 'GoogleGenerativeAIEmbeddings'], vectorstore=<langchain_community.vectorstores.faiss.FAISS object at 0x0000020FFFF679B0>, search_kwargs={}), document_prompt=PromptTemplate(input_variables=['page_content'], input_types={}, partial_variables={}, template='{page_content}'), document_separator='\\n\\n', response_format='content')),\n",
       " ArxivQueryRun(api_wrapper=ArxivAPIWrapper(arxiv_search=<class 'arxiv.Search'>, arxiv_exceptions=(<class 'arxiv.ArxivError'>, <class 'arxiv.UnexpectedEmptyPageError'>, <class 'arxiv.HTTPError'>), top_k_results=1, ARXIV_MAX_QUERY_LENGTH=300, continue_on_failure=False, load_max_docs=100, load_all_available_meta=False, doc_content_chars_max=10))]"
      ]
     },
     "execution_count": 33,
     "metadata": {},
     "output_type": "execute_result"
    }
   ],
   "source": [
    "tools"
   ]
  },
  {
   "cell_type": "markdown",
   "id": "cf19096b",
   "metadata": {},
   "source": [
    "CREATING AGENT TO PERFORM THE TOOL CALLING "
   ]
  },
  {
   "cell_type": "code",
   "execution_count": 41,
   "id": "4dcd49c3",
   "metadata": {},
   "outputs": [],
   "source": [
    "from langchain_google_genai import ChatGoogleGenerativeAI\n",
    "from dotenv import load_dotenv\n",
    "load_dotenv()\n",
    "\n",
    "llm = ChatGoogleGenerativeAI(model = \"gemini-1.5-flash\",temperature=0)"
   ]
  },
  {
   "cell_type": "code",
   "execution_count": null,
   "id": "bff08fec",
   "metadata": {},
   "outputs": [
    {
     "name": "stderr",
     "output_type": "stream",
     "text": [
      "c:\\Users\\Vigneshwaran G\\AppData\\Local\\Programs\\Python\\Python312\\Lib\\site-packages\\langsmith\\client.py:272: LangSmithMissingAPIKeyWarning: API key must be provided when using hosted LangSmith API\n",
      "  warnings.warn(\n"
     ]
    }
   ],
   "source": [
    "\n",
    "prompt = hub.pull(\"hwchase17/openai-functions-agent\")"
   ]
  },
  {
   "cell_type": "code",
   "execution_count": 43,
   "id": "13280940",
   "metadata": {},
   "outputs": [],
   "source": [
    "from langchain.agents import create_tool_calling_agent, AgentExecutor\n",
    "agent = create_tool_calling_agent(llm,tools,prompt)"
   ]
  },
  {
   "cell_type": "code",
   "execution_count": 44,
   "id": "8e19d317",
   "metadata": {},
   "outputs": [],
   "source": [
    "agent_executor = AgentExecutor(agent =agent,tools = tools , verbose=True)\n"
   ]
  },
  {
   "cell_type": "code",
   "execution_count": 46,
   "id": "056b950e",
   "metadata": {},
   "outputs": [
    {
     "name": "stdout",
     "output_type": "stream",
     "text": [
      "\n",
      "\n",
      "\u001b[1m> Entering new AgentExecutor chain...\u001b[0m\n",
      "\u001b[32;1m\u001b[1;3m\n",
      "Invoking: `wikipedia` with `{'query': 'cricket'}`\n",
      "\n",
      "\n",
      "\u001b[0m\u001b[36;1m\u001b[1;3mPage: Cricket\n",
      "Summary: Cricket is a bat-and-ball game that is played between two teams of eleven players on a field, at the centre of which is a 22-yard (20-metre; 66-foot) pitch with a wicket at each end, each comprising two bails (small sticks) balanced on three stumps. Two players from the batting team, the striker and nonstriker, stand in front of either wicket holding bats, while one player from the fielding team, the bowler, bowls the ball toward the striker's wicket from the opposite end of the pitch. The striker's goal is to hit the bowled ball with the bat and then switch places with the nonstriker, with the batting team scoring one run for each of these swaps. Runs are also scored when the ball reaches the boundary of the field or when the ball is bowled illegally.\n",
      "The fielding team aims to prevent runs by dismissing batters (so they are \"out\"). Dismissal can occur in various ways, including being bowled (when the ball hits the striker's wicket and dislodges the bails), and by the fielding side either catching the ball after it is hit by the bat but before it hits the ground, or hitting a wicket with the ball before a batter can cross the crease line in front of the wicket. When ten batters have been dismissed, the innings (playing phase) ends and the teams swap roles. Forms of cricket range from traditional Test matches played over five days to the newer Twenty20 format (also known as T20), in which each team bats for a single innings of 20 overs (each \"over\" being a set of 6 fair opportunities for the batting team to score) and the game generally lasts three to four hours.\n",
      "Traditionally, cricketers play in all-white kit, but in limited overs cricket, they wear club or team colours. In addition to the basic kit, some players wear protective gear to prevent injury caused by the ball, which is a hard, solid spheroid made of compressed leather with a slightly raised sewn seam enclosing a cork core layered with tightly wound string.\n",
      "The earliest known definite reference to cricket is to it being played in South East England in the mid-16th century. It spread globally with the expansion of the British Empire, with the first international matches in the second half of the 19th century. The game's governing body is the International Cricket Council (ICC), which has over 100 members, twelve of which are full members who play Test matches. The game's rules, the Laws of Cricket, are maintained by Marylebone Cricket Club (MCC) in London. The sport is followed primarily in South Asia, Australia, New Zealand, the United Kingdom, Southern Africa, and the West Indies.\n",
      "While traditionally, cricket has largely been played by men, women's cricket has experienced large growth in the 21st century.\n",
      "The most successful side playing international cricket is Australia, which has won eight One Day International trophies, including six World Cups, more than any other country, and has been the top-rated Test side more than any other country.\u001b[0m\u001b[32;1m\u001b[1;3mCricket is a bat-and-ball game played between two teams of eleven players.  The game takes place on a field with a 22-yard pitch and a wicket at each end.  The goal is to score runs by hitting the ball bowled by the opposing team and running between the wickets, or by hitting boundaries.  The fielding team tries to prevent runs and dismiss batsmen.  Different formats of cricket exist, ranging from five-day Test matches to shorter Twenty20 matches.  The sport originated in South East England in the 16th century and spread globally with the British Empire.  The International Cricket Council (ICC) governs the sport.\n",
      "\u001b[0m\n",
      "\n",
      "\u001b[1m> Finished chain.\u001b[0m\n"
     ]
    },
    {
     "data": {
      "text/plain": [
       "{'input': 'give me some facts on cricket',\n",
       " 'output': 'Cricket is a bat-and-ball game played between two teams of eleven players.  The game takes place on a field with a 22-yard pitch and a wicket at each end.  The goal is to score runs by hitting the ball bowled by the opposing team and running between the wickets, or by hitting boundaries.  The fielding team tries to prevent runs and dismiss batsmen.  Different formats of cricket exist, ranging from five-day Test matches to shorter Twenty20 matches.  The sport originated in South East England in the 16th century and spread globally with the British Empire.  The International Cricket Council (ICC) governs the sport.\\n'}"
      ]
     },
     "execution_count": 46,
     "metadata": {},
     "output_type": "execute_result"
    }
   ],
   "source": [
    "agent_executor.invoke({\"input\": \"give me some facts on cricket\"})"
   ]
  },
  {
   "cell_type": "code",
   "execution_count": null,
   "id": "95d61301",
   "metadata": {},
   "outputs": [],
   "source": []
  },
  {
   "cell_type": "code",
   "execution_count": null,
   "id": "ec84409c",
   "metadata": {},
   "outputs": [],
   "source": []
  },
  {
   "cell_type": "code",
   "execution_count": null,
   "id": "10114eac",
   "metadata": {},
   "outputs": [],
   "source": []
  },
  {
   "cell_type": "code",
   "execution_count": null,
   "id": "17f39acd",
   "metadata": {},
   "outputs": [],
   "source": []
  },
  {
   "cell_type": "code",
   "execution_count": null,
   "id": "22faee81",
   "metadata": {},
   "outputs": [],
   "source": []
  }
 ],
 "metadata": {
  "kernelspec": {
   "display_name": "Python 3",
   "language": "python",
   "name": "python3"
  },
  "language_info": {
   "codemirror_mode": {
    "name": "ipython",
    "version": 3
   },
   "file_extension": ".py",
   "mimetype": "text/x-python",
   "name": "python",
   "nbconvert_exporter": "python",
   "pygments_lexer": "ipython3",
   "version": "3.12.0"
  }
 },
 "nbformat": 4,
 "nbformat_minor": 5
}
